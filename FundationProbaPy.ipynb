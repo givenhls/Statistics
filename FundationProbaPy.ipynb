{
 "cells": [
  {
   "cell_type": "markdown",
   "id": "49e64ea4",
   "metadata": {},
   "source": [
    "## Foundations of Probability in Python"
   ]
  },
  {
   "cell_type": "markdown",
   "id": "f3e4f8a5",
   "metadata": {},
   "source": [
    "### Simulating coin flips\n",
    "generates random \"flips\" that are either 1 (\"heads\") or 0 (\"tails\")\n",
    "- Using random/.choice/.choices functions\n",
    "- Using scipy.stats.binom/.rvs"
   ]
  },
  {
   "cell_type": "code",
   "execution_count": 1,
   "id": "27766c9d",
   "metadata": {},
   "outputs": [],
   "source": [
    "import random as rnd\n",
    "from scipy import stats"
   ]
  },
  {
   "cell_type": "code",
   "execution_count": 2,
   "id": "b2aa3ed2",
   "metadata": {},
   "outputs": [],
   "source": [
    "# set a reference to have always the same random variables\n",
    "rnd.seed(104)"
   ]
  },
  {
   "cell_type": "code",
   "execution_count": 3,
   "id": "c6bcd2cb",
   "metadata": {},
   "outputs": [
    {
     "data": {
      "text/plain": [
       "[0, 0, 0, 1, 0, 0, 0, 1, 1, 0]"
      ]
     },
     "execution_count": 3,
     "metadata": {},
     "output_type": "execute_result"
    }
   ],
   "source": [
    "# simulate 10 coin flips, each with a 30% chance of coming up 1 (\"heads\").\n",
    "rnd.choices([1,0], weights=[30,70], k=10)"
   ]
  },
  {
   "cell_type": "code",
   "execution_count": 16,
   "id": "15fd643a",
   "metadata": {},
   "outputs": [
    {
     "data": {
      "text/plain": [
       "[0, 1, 0, 0, 0, 0, 0, 0, 0, 0]"
      ]
     },
     "execution_count": 16,
     "metadata": {},
     "output_type": "execute_result"
    }
   ],
   "source": [
    "list(stats.binom.rvs(1, 0.3, size=10))"
   ]
  },
  {
   "cell_type": "code",
   "execution_count": 19,
   "id": "eb1c955d",
   "metadata": {},
   "outputs": [
    {
     "name": "stdout",
     "output_type": "stream",
     "text": [
      "[5, 1, 3, 1, 5, 3, 1, 2, 4, 2, 3, 2, 2, 1, 2, 4, 2, 4, 5, 2, 4, 2, 5, 3, 1, 0, 5, 2, 4, 5, 3, 2, 1, 4, 4, 4, 3, 3, 3, 3, 2, 3, 0, 2, 3, 2, 3, 4, 2, 3, 2, 5, 2, 3, 4, 2, 4, 3, 4, 1, 2, 6, 3, 1, 5, 2, 2, 3, 4, 3, 2, 5, 3, 3, 2, 3, 5, 2, 5, 3, 1, 3, 2, 7, 1, 2, 6, 3, 4, 2, 4, 6, 1, 2, 4, 4, 4, 6, 4, 3]\n"
     ]
    }
   ],
   "source": [
    "# Simulating draws from a binomial\n",
    "simulation1 = [sum(rnd.choices([1,0], weights=[30,70], k=10)) for i in range(100)]\n",
    "print(simulation1)"
   ]
  },
  {
   "cell_type": "code",
   "execution_count": 21,
   "id": "3df3ff55",
   "metadata": {},
   "outputs": [
    {
     "name": "stdout",
     "output_type": "stream",
     "text": [
      "[1, 4, 3, 5, 5, 3, 3, 3, 4, 4, 3, 7, 5, 3, 1, 5, 2, 3, 2, 5, 5, 3, 6, 0, 3, 3, 3, 1, 3, 1, 2, 2, 5, 3, 2, 3, 4, 2, 2, 2, 3, 3, 4, 2, 0, 4, 2, 1, 6, 2, 5, 3, 4, 5, 4, 5, 6, 2, 2, 1, 7, 3, 6, 5, 5, 3, 4, 4, 5, 5, 2, 2, 3, 5, 2, 1, 5, 1, 4, 3, 3, 1, 3, 2, 2, 3, 4, 6, 3, 4, 5, 1, 5, 4, 3, 3, 4, 2, 3, 3]\n"
     ]
    }
   ],
   "source": [
    "simulation2 = list(stats.binom.rvs(10, 0.3, size=100))\n",
    "print(simulation2)"
   ]
  },
  {
   "cell_type": "markdown",
   "id": "6470f0b0",
   "metadata": {},
   "source": [
    "### Calculating density of a binomial\n",
    "If you flip 10 coins each with a 30% probability of coming up heads, what is the probability exactly 2 of them are heads?\n",
    "\n",
    "Using dbinom(density, number of trials, probability) function"
   ]
  },
  {
   "cell_type": "code",
   "execution_count": 26,
   "id": "af3a637e",
   "metadata": {},
   "outputs": [
    {
     "data": {
      "text/plain": [
       "0.2334744405000001"
      ]
     },
     "execution_count": 26,
     "metadata": {},
     "output_type": "execute_result"
    }
   ],
   "source": [
    "stats.binom.pmf(2,10, 0.3)"
   ]
  },
  {
   "cell_type": "code",
   "execution_count": null,
   "id": "e3a1b581",
   "metadata": {},
   "outputs": [],
   "source": []
  }
 ],
 "metadata": {
  "kernelspec": {
   "display_name": "Python [conda env:Statistics] *",
   "language": "python",
   "name": "conda-env-Statistics-py"
  },
  "language_info": {
   "codemirror_mode": {
    "name": "ipython",
    "version": 3
   },
   "file_extension": ".py",
   "mimetype": "text/x-python",
   "name": "python",
   "nbconvert_exporter": "python",
   "pygments_lexer": "ipython3",
   "version": "3.9.7"
  }
 },
 "nbformat": 4,
 "nbformat_minor": 5
}
