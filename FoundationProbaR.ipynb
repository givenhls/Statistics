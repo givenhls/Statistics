{
 "cells": [
  {
   "cell_type": "markdown",
   "id": "64c2f381",
   "metadata": {},
   "source": [
    "# Foundations of Probability in R\n",
    "<a href=\"https://www.datacamp.com/courses/foundations-of-probability-in-r\">Cours datacamp</a>"
   ]
  },
  {
   "cell_type": "markdown",
   "id": "2d671c1f",
   "metadata": {},
   "source": [
    "## The binomial distribution\n",
    "<a href=\"https://fr.wikipedia.org/wiki/Loi_binomiale\">Définition loi binomiale [wikipedia]</a>"
   ]
  },
  {
   "cell_type": "markdown",
   "id": "265ae931",
   "metadata": {},
   "source": [
    "### Simulating coin flips\n",
    "- Using rbinom() function, which generates random \"flips\" that are either 1 (\"heads\") or 0 (\"tails\")."
   ]
  },
  {
   "cell_type": "code",
   "execution_count": 4,
   "id": "03894b3d",
   "metadata": {},
   "outputs": [],
   "source": [
    "# set a reference to have always the same random variables\n",
    "set.seed(104)"
   ]
  },
  {
   "cell_type": "code",
   "execution_count": 5,
   "id": "994ddd87",
   "metadata": {},
   "outputs": [
    {
     "data": {
      "text/html": [
       "<ol class=list-inline>\n",
       "\t<li>0</li>\n",
       "\t<li>1</li>\n",
       "\t<li>1</li>\n",
       "\t<li>1</li>\n",
       "\t<li>1</li>\n",
       "\t<li>0</li>\n",
       "\t<li>0</li>\n",
       "\t<li>0</li>\n",
       "\t<li>1</li>\n",
       "\t<li>0</li>\n",
       "</ol>\n"
      ],
      "text/latex": [
       "\\begin{enumerate*}\n",
       "\\item 0\n",
       "\\item 1\n",
       "\\item 1\n",
       "\\item 1\n",
       "\\item 1\n",
       "\\item 0\n",
       "\\item 0\n",
       "\\item 0\n",
       "\\item 1\n",
       "\\item 0\n",
       "\\end{enumerate*}\n"
      ],
      "text/markdown": [
       "1. 0\n",
       "2. 1\n",
       "3. 1\n",
       "4. 1\n",
       "5. 1\n",
       "6. 0\n",
       "7. 0\n",
       "8. 0\n",
       "9. 1\n",
       "10. 0\n",
       "\n",
       "\n"
      ],
      "text/plain": [
       " [1] 0 1 1 1 1 0 0 0 1 0"
      ]
     },
     "metadata": {},
     "output_type": "display_data"
    }
   ],
   "source": [
    "# simulate 10 coin flips, each with a 30% chance of coming up 1 (\"heads\").\n",
    "rbinom(10, 1, 0.3)"
   ]
  },
  {
   "cell_type": "markdown",
   "id": "500601c0",
   "metadata": {},
   "source": [
    "### Simulating draws from a binomial"
   ]
  },
  {
   "cell_type": "code",
   "execution_count": 6,
   "id": "39589703",
   "metadata": {},
   "outputs": [
    {
     "data": {
      "text/html": [
       "<ol class=list-inline>\n",
       "\t<li>3</li>\n",
       "\t<li>3</li>\n",
       "\t<li>3</li>\n",
       "\t<li>1</li>\n",
       "\t<li>5</li>\n",
       "\t<li>1</li>\n",
       "\t<li>4</li>\n",
       "\t<li>0</li>\n",
       "\t<li>2</li>\n",
       "\t<li>3</li>\n",
       "\t<li>4</li>\n",
       "\t<li>5</li>\n",
       "\t<li>3</li>\n",
       "\t<li>1</li>\n",
       "\t<li>4</li>\n",
       "\t<li>1</li>\n",
       "\t<li>3</li>\n",
       "\t<li>3</li>\n",
       "\t<li>3</li>\n",
       "\t<li>2</li>\n",
       "\t<li>3</li>\n",
       "\t<li>5</li>\n",
       "\t<li>5</li>\n",
       "\t<li>0</li>\n",
       "\t<li>1</li>\n",
       "\t<li>3</li>\n",
       "\t<li>1</li>\n",
       "\t<li>5</li>\n",
       "\t<li>2</li>\n",
       "\t<li>2</li>\n",
       "\t<li>2</li>\n",
       "\t<li>0</li>\n",
       "\t<li>3</li>\n",
       "\t<li>2</li>\n",
       "\t<li>2</li>\n",
       "\t<li>2</li>\n",
       "\t<li>1</li>\n",
       "\t<li>3</li>\n",
       "\t<li>4</li>\n",
       "\t<li>1</li>\n",
       "\t<li>2</li>\n",
       "\t<li>4</li>\n",
       "\t<li>1</li>\n",
       "\t<li>4</li>\n",
       "\t<li>4</li>\n",
       "\t<li>3</li>\n",
       "\t<li>1</li>\n",
       "\t<li>4</li>\n",
       "\t<li>3</li>\n",
       "\t<li>2</li>\n",
       "\t<li>5</li>\n",
       "\t<li>2</li>\n",
       "\t<li>1</li>\n",
       "\t<li>4</li>\n",
       "\t<li>2</li>\n",
       "\t<li>3</li>\n",
       "\t<li>3</li>\n",
       "\t<li>4</li>\n",
       "\t<li>4</li>\n",
       "\t<li>3</li>\n",
       "\t<li>3</li>\n",
       "\t<li>1</li>\n",
       "\t<li>2</li>\n",
       "\t<li>3</li>\n",
       "\t<li>3</li>\n",
       "\t<li>4</li>\n",
       "\t<li>5</li>\n",
       "\t<li>2</li>\n",
       "\t<li>2</li>\n",
       "\t<li>3</li>\n",
       "\t<li>2</li>\n",
       "\t<li>1</li>\n",
       "\t<li>5</li>\n",
       "\t<li>3</li>\n",
       "\t<li>2</li>\n",
       "\t<li>2</li>\n",
       "\t<li>4</li>\n",
       "\t<li>7</li>\n",
       "\t<li>3</li>\n",
       "\t<li>4</li>\n",
       "\t<li>2</li>\n",
       "\t<li>6</li>\n",
       "\t<li>2</li>\n",
       "\t<li>2</li>\n",
       "\t<li>4</li>\n",
       "\t<li>3</li>\n",
       "\t<li>3</li>\n",
       "\t<li>4</li>\n",
       "\t<li>3</li>\n",
       "\t<li>6</li>\n",
       "\t<li>5</li>\n",
       "\t<li>3</li>\n",
       "\t<li>3</li>\n",
       "\t<li>4</li>\n",
       "\t<li>2</li>\n",
       "\t<li>3</li>\n",
       "\t<li>3</li>\n",
       "\t<li>1</li>\n",
       "\t<li>5</li>\n",
       "\t<li>2</li>\n",
       "</ol>\n"
      ],
      "text/latex": [
       "\\begin{enumerate*}\n",
       "\\item 3\n",
       "\\item 3\n",
       "\\item 3\n",
       "\\item 1\n",
       "\\item 5\n",
       "\\item 1\n",
       "\\item 4\n",
       "\\item 0\n",
       "\\item 2\n",
       "\\item 3\n",
       "\\item 4\n",
       "\\item 5\n",
       "\\item 3\n",
       "\\item 1\n",
       "\\item 4\n",
       "\\item 1\n",
       "\\item 3\n",
       "\\item 3\n",
       "\\item 3\n",
       "\\item 2\n",
       "\\item 3\n",
       "\\item 5\n",
       "\\item 5\n",
       "\\item 0\n",
       "\\item 1\n",
       "\\item 3\n",
       "\\item 1\n",
       "\\item 5\n",
       "\\item 2\n",
       "\\item 2\n",
       "\\item 2\n",
       "\\item 0\n",
       "\\item 3\n",
       "\\item 2\n",
       "\\item 2\n",
       "\\item 2\n",
       "\\item 1\n",
       "\\item 3\n",
       "\\item 4\n",
       "\\item 1\n",
       "\\item 2\n",
       "\\item 4\n",
       "\\item 1\n",
       "\\item 4\n",
       "\\item 4\n",
       "\\item 3\n",
       "\\item 1\n",
       "\\item 4\n",
       "\\item 3\n",
       "\\item 2\n",
       "\\item 5\n",
       "\\item 2\n",
       "\\item 1\n",
       "\\item 4\n",
       "\\item 2\n",
       "\\item 3\n",
       "\\item 3\n",
       "\\item 4\n",
       "\\item 4\n",
       "\\item 3\n",
       "\\item 3\n",
       "\\item 1\n",
       "\\item 2\n",
       "\\item 3\n",
       "\\item 3\n",
       "\\item 4\n",
       "\\item 5\n",
       "\\item 2\n",
       "\\item 2\n",
       "\\item 3\n",
       "\\item 2\n",
       "\\item 1\n",
       "\\item 5\n",
       "\\item 3\n",
       "\\item 2\n",
       "\\item 2\n",
       "\\item 4\n",
       "\\item 7\n",
       "\\item 3\n",
       "\\item 4\n",
       "\\item 2\n",
       "\\item 6\n",
       "\\item 2\n",
       "\\item 2\n",
       "\\item 4\n",
       "\\item 3\n",
       "\\item 3\n",
       "\\item 4\n",
       "\\item 3\n",
       "\\item 6\n",
       "\\item 5\n",
       "\\item 3\n",
       "\\item 3\n",
       "\\item 4\n",
       "\\item 2\n",
       "\\item 3\n",
       "\\item 3\n",
       "\\item 1\n",
       "\\item 5\n",
       "\\item 2\n",
       "\\end{enumerate*}\n"
      ],
      "text/markdown": [
       "1. 3\n",
       "2. 3\n",
       "3. 3\n",
       "4. 1\n",
       "5. 5\n",
       "6. 1\n",
       "7. 4\n",
       "8. 0\n",
       "9. 2\n",
       "10. 3\n",
       "11. 4\n",
       "12. 5\n",
       "13. 3\n",
       "14. 1\n",
       "15. 4\n",
       "16. 1\n",
       "17. 3\n",
       "18. 3\n",
       "19. 3\n",
       "20. 2\n",
       "21. 3\n",
       "22. 5\n",
       "23. 5\n",
       "24. 0\n",
       "25. 1\n",
       "26. 3\n",
       "27. 1\n",
       "28. 5\n",
       "29. 2\n",
       "30. 2\n",
       "31. 2\n",
       "32. 0\n",
       "33. 3\n",
       "34. 2\n",
       "35. 2\n",
       "36. 2\n",
       "37. 1\n",
       "38. 3\n",
       "39. 4\n",
       "40. 1\n",
       "41. 2\n",
       "42. 4\n",
       "43. 1\n",
       "44. 4\n",
       "45. 4\n",
       "46. 3\n",
       "47. 1\n",
       "48. 4\n",
       "49. 3\n",
       "50. 2\n",
       "51. 5\n",
       "52. 2\n",
       "53. 1\n",
       "54. 4\n",
       "55. 2\n",
       "56. 3\n",
       "57. 3\n",
       "58. 4\n",
       "59. 4\n",
       "60. 3\n",
       "61. 3\n",
       "62. 1\n",
       "63. 2\n",
       "64. 3\n",
       "65. 3\n",
       "66. 4\n",
       "67. 5\n",
       "68. 2\n",
       "69. 2\n",
       "70. 3\n",
       "71. 2\n",
       "72. 1\n",
       "73. 5\n",
       "74. 3\n",
       "75. 2\n",
       "76. 2\n",
       "77. 4\n",
       "78. 7\n",
       "79. 3\n",
       "80. 4\n",
       "81. 2\n",
       "82. 6\n",
       "83. 2\n",
       "84. 2\n",
       "85. 4\n",
       "86. 3\n",
       "87. 3\n",
       "88. 4\n",
       "89. 3\n",
       "90. 6\n",
       "91. 5\n",
       "92. 3\n",
       "93. 3\n",
       "94. 4\n",
       "95. 2\n",
       "96. 3\n",
       "97. 3\n",
       "98. 1\n",
       "99. 5\n",
       "100. 2\n",
       "\n",
       "\n"
      ],
      "text/plain": [
       "  [1] 3 3 3 1 5 1 4 0 2 3 4 5 3 1 4 1 3 3 3 2 3 5 5 0 1 3 1 5 2 2 2 0 3 2 2 2 1\n",
       " [38] 3 4 1 2 4 1 4 4 3 1 4 3 2 5 2 1 4 2 3 3 4 4 3 3 1 2 3 3 4 5 2 2 3 2 1 5 3\n",
       " [75] 2 2 4 7 3 4 2 6 2 2 4 3 3 4 3 6 5 3 3 4 2 3 3 1 5 2"
      ]
     },
     "metadata": {},
     "output_type": "display_data"
    }
   ],
   "source": [
    "# Generate 100 occurrences of flipping 10 coins, each with 30% probability\n",
    "rbinom(100, 10, 0.3)"
   ]
  },
  {
   "cell_type": "markdown",
   "id": "988fe7c5",
   "metadata": {},
   "source": [
    "### Calculating density of a binomial\n",
    "If you flip 10 coins each with a 30% probability of coming up heads, what is the probability exactly 2 of them are heads?\n",
    "- Using dbinom(density, number of trials, probability) function "
   ]
  },
  {
   "cell_type": "code",
   "execution_count": 8,
   "id": "76f0ca08",
   "metadata": {},
   "outputs": [
    {
     "data": {
      "text/html": [
       "0.2334744405"
      ],
      "text/latex": [
       "0.2334744405"
      ],
      "text/markdown": [
       "0.2334744405"
      ],
      "text/plain": [
       "[1] 0.2334744"
      ]
     },
     "metadata": {},
     "output_type": "display_data"
    }
   ],
   "source": [
    "# Calculate the probability that 2 are heads\n",
    "dbinom(2, 10, 0.3)"
   ]
  },
  {
   "cell_type": "code",
   "execution_count": 10,
   "id": "573222ee",
   "metadata": {},
   "outputs": [
    {
     "data": {
      "text/html": [
       "0.23389"
      ],
      "text/latex": [
       "0.23389"
      ],
      "text/markdown": [
       "0.23389"
      ],
      "text/plain": [
       "[1] 0.23389"
      ]
     },
     "metadata": {},
     "output_type": "display_data"
    }
   ],
   "source": [
    "# Confirm the previous answer with a simulation of 100 000 tests\n",
    "mean(rbinom(100000, 10, 0.3) == 2)"
   ]
  },
  {
   "cell_type": "markdown",
   "id": "418ce784",
   "metadata": {},
   "source": [
    "### Calculating cumulative density of a binomial\n",
    "If you flip ten coins that each have a 30% probability of heads, what is the probability at least five are heads?\n",
    "- Using pbinom(density, number of trials, probability) function"
   ]
  },
  {
   "cell_type": "code",
   "execution_count": 14,
   "id": "6c4f70a2",
   "metadata": {},
   "outputs": [
    {
     "data": {
      "text/html": [
       "0.1502683326"
      ],
      "text/latex": [
       "0.1502683326"
      ],
      "text/markdown": [
       "0.1502683326"
      ],
      "text/plain": [
       "[1] 0.1502683"
      ]
     },
     "metadata": {},
     "output_type": "display_data"
    }
   ],
   "source": [
    "# using the default behaviour of pbinom function\n",
    "1 - pbinom(4, 10, 0.3, lower.tail = TRUE)"
   ]
  },
  {
   "cell_type": "code",
   "execution_count": 16,
   "id": "b2a2b6d8",
   "metadata": {},
   "outputs": [
    {
     "data": {
      "text/html": [
       "0.1502683326"
      ],
      "text/latex": [
       "0.1502683326"
      ],
      "text/markdown": [
       "0.1502683326"
      ],
      "text/plain": [
       "[1] 0.1502683"
      ]
     },
     "metadata": {},
     "output_type": "display_data"
    }
   ],
   "source": [
    "# using the lower.tail parameter\n",
    "pbinom(4, 10, 0.3, lower.tail = FALSE)"
   ]
  },
  {
   "cell_type": "code",
   "execution_count": 25,
   "id": "ffae586f",
   "metadata": {},
   "outputs": [
    {
     "data": {
      "text/html": [
       "0.15178"
      ],
      "text/latex": [
       "0.15178"
      ],
      "text/markdown": [
       "0.15178"
      ],
      "text/plain": [
       "[1] 0.15178"
      ]
     },
     "metadata": {},
     "output_type": "display_data"
    }
   ],
   "source": [
    "# Confirm the previous answer with a simulation of 100 000 tests\n",
    "simulation <- rbinom(100000, 10, 0.3) >= 5\n",
    "mean(simulation)"
   ]
  },
  {
   "cell_type": "markdown",
   "id": "5a343ced",
   "metadata": {},
   "source": [
    "### Varying the number of trials\n",
    "Did you need all 10,000 trials to get an accurate answer?"
   ]
  },
  {
   "cell_type": "code",
   "execution_count": 31,
   "id": "eb53acf6",
   "metadata": {},
   "outputs": [
    {
     "data": {
      "text/html": [
       "0.11"
      ],
      "text/latex": [
       "0.11"
      ],
      "text/markdown": [
       "0.11"
      ],
      "text/plain": [
       "[1] 0.11"
      ]
     },
     "metadata": {},
     "output_type": "display_data"
    }
   ],
   "source": [
    "simulation <- rbinom(100, 10, 0.3) >= 5\n",
    "mean(simulation)"
   ]
  },
  {
   "cell_type": "code",
   "execution_count": 32,
   "id": "6e1c3a9e",
   "metadata": {},
   "outputs": [
    {
     "data": {
      "text/html": [
       "0.149"
      ],
      "text/latex": [
       "0.149"
      ],
      "text/markdown": [
       "0.149"
      ],
      "text/plain": [
       "[1] 0.149"
      ]
     },
     "metadata": {},
     "output_type": "display_data"
    }
   ],
   "source": [
    "simulation <- rbinom(1000, 10, 0.3) >= 5\n",
    "mean(simulation)"
   ]
  },
  {
   "cell_type": "code",
   "execution_count": 33,
   "id": "a58ad294",
   "metadata": {},
   "outputs": [
    {
     "data": {
      "text/html": [
       "0.14985"
      ],
      "text/latex": [
       "0.14985"
      ],
      "text/markdown": [
       "0.14985"
      ],
      "text/plain": [
       "[1] 0.14985"
      ]
     },
     "metadata": {},
     "output_type": "display_data"
    }
   ],
   "source": [
    "simulation <- rbinom(100000, 10, 0.3) >= 5\n",
    "mean(simulation)"
   ]
  },
  {
   "cell_type": "code",
   "execution_count": 34,
   "id": "d76eccd8",
   "metadata": {},
   "outputs": [
    {
     "data": {
      "text/html": [
       "0.15027"
      ],
      "text/latex": [
       "0.15027"
      ],
      "text/markdown": [
       "0.15027"
      ],
      "text/plain": [
       "[1] 0.15027"
      ]
     },
     "metadata": {},
     "output_type": "display_data"
    }
   ],
   "source": [
    "simulation <- rbinom(1000000, 10, 0.3) >= 5\n",
    "mean(simulation)"
   ]
  },
  {
   "cell_type": "markdown",
   "id": "b12a7827",
   "metadata": {},
   "source": [
    "### Calculating the expected value\n",
    "- for a binomial distribution : E(x) = n * p = size * probability"
   ]
  },
  {
   "cell_type": "code",
   "execution_count": 2,
   "id": "68f86245",
   "metadata": {},
   "outputs": [
    {
     "data": {
      "text/html": [
       "7.5"
      ],
      "text/latex": [
       "7.5"
      ],
      "text/markdown": [
       "7.5"
      ],
      "text/plain": [
       "[1] 7.5"
      ]
     },
     "metadata": {},
     "output_type": "display_data"
    }
   ],
   "source": [
    "#the expected value of a binomial distribution where 25 coins are flipped, each having a 30% chance of heads\n",
    "25 * 0.3"
   ]
  },
  {
   "cell_type": "code",
   "execution_count": 4,
   "id": "5ef3ea2c",
   "metadata": {},
   "outputs": [
    {
     "data": {
      "text/html": [
       "7.51148"
      ],
      "text/latex": [
       "7.51148"
      ],
      "text/markdown": [
       "7.51148"
      ],
      "text/plain": [
       "[1] 7.51148"
      ]
     },
     "metadata": {},
     "output_type": "display_data"
    }
   ],
   "source": [
    "simulation <- rbinom(100000, 25, 0.3)\n",
    "mean(simulation)"
   ]
  },
  {
   "cell_type": "markdown",
   "id": "7f7311a5",
   "metadata": {},
   "source": [
    "### Calculating the variance\n",
    "- for a binomial distribution Var = n * p * (1-P) = size * probability (1 - probability)"
   ]
  },
  {
   "cell_type": "code",
   "execution_count": 5,
   "id": "35e9e933",
   "metadata": {},
   "outputs": [
    {
     "data": {
      "text/html": [
       "5.25"
      ],
      "text/latex": [
       "5.25"
      ],
      "text/markdown": [
       "5.25"
      ],
      "text/plain": [
       "[1] 5.25"
      ]
     },
     "metadata": {},
     "output_type": "display_data"
    }
   ],
   "source": [
    "# the variance of a binomial distribution where 25 coins are flipped, each having a 30% chance of heads?\n",
    "25 * 0.3 * (1 - 0.3)"
   ]
  },
  {
   "cell_type": "code",
   "execution_count": 8,
   "id": "51071b39",
   "metadata": {},
   "outputs": [
    {
     "data": {
      "text/html": [
       "5.25074346382746"
      ],
      "text/latex": [
       "5.25074346382746"
      ],
      "text/markdown": [
       "5.25074346382746"
      ],
      "text/plain": [
       "[1] 5.250743"
      ]
     },
     "metadata": {},
     "output_type": "display_data"
    }
   ],
   "source": [
    "simulation <- rbinom(1000000, 25, 0.3)\n",
    "var(simulation)"
   ]
  },
  {
   "cell_type": "markdown",
   "id": "65de8830",
   "metadata": {},
   "source": [
    "## Laws of probability"
   ]
  },
  {
   "cell_type": "markdown",
   "id": "1d034ddd",
   "metadata": {},
   "source": [
    "### Simulating coin flips\n",
    "- using the rbinom(n, p) function, which generates n random \"flips\" that are either 1 (\"heads\") or 0 (\"tails\") with propability p of coming 1 "
   ]
  },
  {
   "cell_type": "code",
   "execution_count": 2,
   "id": "8bbc9639",
   "metadata": {},
   "outputs": [
    {
     "data": {
      "text/html": [
       "<ol class=list-inline>\n",
       "\t<li>0</li>\n",
       "\t<li>1</li>\n",
       "\t<li>0</li>\n",
       "\t<li>0</li>\n",
       "\t<li>0</li>\n",
       "\t<li>0</li>\n",
       "\t<li>0</li>\n",
       "\t<li>1</li>\n",
       "\t<li>1</li>\n",
       "\t<li>0</li>\n",
       "</ol>\n"
      ],
      "text/latex": [
       "\\begin{enumerate*}\n",
       "\\item 0\n",
       "\\item 1\n",
       "\\item 0\n",
       "\\item 0\n",
       "\\item 0\n",
       "\\item 0\n",
       "\\item 0\n",
       "\\item 1\n",
       "\\item 1\n",
       "\\item 0\n",
       "\\end{enumerate*}\n"
      ],
      "text/markdown": [
       "1. 0\n",
       "2. 1\n",
       "3. 0\n",
       "4. 0\n",
       "5. 0\n",
       "6. 0\n",
       "7. 0\n",
       "8. 1\n",
       "9. 1\n",
       "10. 0\n",
       "\n",
       "\n"
      ],
      "text/plain": [
       " [1] 0 1 0 0 0 0 0 1 1 0"
      ]
     },
     "metadata": {},
     "output_type": "display_data"
    }
   ],
   "source": [
    "# Simulate 10 coin flips, each with a 30% chance of coming up head\n",
    "rbinom(10, 1, .3)"
   ]
  },
  {
   "cell_type": "markdown",
   "id": "785c302c",
   "metadata": {},
   "source": [
    "### Simulating draws from a binomial\n",
    "- using the rbinom(k, s, p) function, which generates k draws of n random \"flips\" with propability p of coming 1 "
   ]
  },
  {
   "cell_type": "code",
   "execution_count": 3,
   "id": "2b093e24",
   "metadata": {},
   "outputs": [
    {
     "data": {
      "text/html": [
       "<ol class=list-inline>\n",
       "\t<li>2</li>\n",
       "\t<li>4</li>\n",
       "\t<li>6</li>\n",
       "\t<li>3</li>\n",
       "\t<li>3</li>\n",
       "\t<li>3</li>\n",
       "\t<li>3</li>\n",
       "\t<li>5</li>\n",
       "\t<li>0</li>\n",
       "\t<li>2</li>\n",
       "\t<li>3</li>\n",
       "\t<li>1</li>\n",
       "\t<li>4</li>\n",
       "\t<li>4</li>\n",
       "\t<li>4</li>\n",
       "\t<li>7</li>\n",
       "\t<li>2</li>\n",
       "\t<li>2</li>\n",
       "\t<li>2</li>\n",
       "\t<li>2</li>\n",
       "\t<li>2</li>\n",
       "\t<li>6</li>\n",
       "\t<li>4</li>\n",
       "\t<li>2</li>\n",
       "\t<li>1</li>\n",
       "\t<li>2</li>\n",
       "\t<li>2</li>\n",
       "\t<li>1</li>\n",
       "\t<li>1</li>\n",
       "\t<li>3</li>\n",
       "\t<li>1</li>\n",
       "\t<li>4</li>\n",
       "\t<li>3</li>\n",
       "\t<li>3</li>\n",
       "\t<li>4</li>\n",
       "\t<li>3</li>\n",
       "\t<li>4</li>\n",
       "\t<li>2</li>\n",
       "\t<li>3</li>\n",
       "\t<li>1</li>\n",
       "\t<li>5</li>\n",
       "\t<li>3</li>\n",
       "\t<li>4</li>\n",
       "\t<li>2</li>\n",
       "\t<li>2</li>\n",
       "\t<li>3</li>\n",
       "\t<li>1</li>\n",
       "\t<li>3</li>\n",
       "\t<li>2</li>\n",
       "\t<li>2</li>\n",
       "\t<li>3</li>\n",
       "\t<li>2</li>\n",
       "\t<li>3</li>\n",
       "\t<li>0</li>\n",
       "\t<li>3</li>\n",
       "\t<li>1</li>\n",
       "\t<li>3</li>\n",
       "\t<li>3</li>\n",
       "\t<li>3</li>\n",
       "\t<li>4</li>\n",
       "\t<li>3</li>\n",
       "\t<li>4</li>\n",
       "\t<li>2</li>\n",
       "\t<li>4</li>\n",
       "\t<li>1</li>\n",
       "\t<li>0</li>\n",
       "\t<li>3</li>\n",
       "\t<li>6</li>\n",
       "\t<li>2</li>\n",
       "\t<li>3</li>\n",
       "\t<li>2</li>\n",
       "\t<li>4</li>\n",
       "\t<li>3</li>\n",
       "\t<li>1</li>\n",
       "\t<li>4</li>\n",
       "\t<li>3</li>\n",
       "\t<li>3</li>\n",
       "\t<li>4</li>\n",
       "\t<li>4</li>\n",
       "\t<li>3</li>\n",
       "\t<li>1</li>\n",
       "\t<li>4</li>\n",
       "\t<li>1</li>\n",
       "\t<li>1</li>\n",
       "\t<li>4</li>\n",
       "\t<li>5</li>\n",
       "\t<li>2</li>\n",
       "\t<li>3</li>\n",
       "\t<li>5</li>\n",
       "\t<li>2</li>\n",
       "\t<li>6</li>\n",
       "\t<li>2</li>\n",
       "\t<li>1</li>\n",
       "\t<li>4</li>\n",
       "\t<li>0</li>\n",
       "\t<li>2</li>\n",
       "\t<li>4</li>\n",
       "\t<li>3</li>\n",
       "\t<li>2</li>\n",
       "\t<li>2</li>\n",
       "</ol>\n"
      ],
      "text/latex": [
       "\\begin{enumerate*}\n",
       "\\item 2\n",
       "\\item 4\n",
       "\\item 6\n",
       "\\item 3\n",
       "\\item 3\n",
       "\\item 3\n",
       "\\item 3\n",
       "\\item 5\n",
       "\\item 0\n",
       "\\item 2\n",
       "\\item 3\n",
       "\\item 1\n",
       "\\item 4\n",
       "\\item 4\n",
       "\\item 4\n",
       "\\item 7\n",
       "\\item 2\n",
       "\\item 2\n",
       "\\item 2\n",
       "\\item 2\n",
       "\\item 2\n",
       "\\item 6\n",
       "\\item 4\n",
       "\\item 2\n",
       "\\item 1\n",
       "\\item 2\n",
       "\\item 2\n",
       "\\item 1\n",
       "\\item 1\n",
       "\\item 3\n",
       "\\item 1\n",
       "\\item 4\n",
       "\\item 3\n",
       "\\item 3\n",
       "\\item 4\n",
       "\\item 3\n",
       "\\item 4\n",
       "\\item 2\n",
       "\\item 3\n",
       "\\item 1\n",
       "\\item 5\n",
       "\\item 3\n",
       "\\item 4\n",
       "\\item 2\n",
       "\\item 2\n",
       "\\item 3\n",
       "\\item 1\n",
       "\\item 3\n",
       "\\item 2\n",
       "\\item 2\n",
       "\\item 3\n",
       "\\item 2\n",
       "\\item 3\n",
       "\\item 0\n",
       "\\item 3\n",
       "\\item 1\n",
       "\\item 3\n",
       "\\item 3\n",
       "\\item 3\n",
       "\\item 4\n",
       "\\item 3\n",
       "\\item 4\n",
       "\\item 2\n",
       "\\item 4\n",
       "\\item 1\n",
       "\\item 0\n",
       "\\item 3\n",
       "\\item 6\n",
       "\\item 2\n",
       "\\item 3\n",
       "\\item 2\n",
       "\\item 4\n",
       "\\item 3\n",
       "\\item 1\n",
       "\\item 4\n",
       "\\item 3\n",
       "\\item 3\n",
       "\\item 4\n",
       "\\item 4\n",
       "\\item 3\n",
       "\\item 1\n",
       "\\item 4\n",
       "\\item 1\n",
       "\\item 1\n",
       "\\item 4\n",
       "\\item 5\n",
       "\\item 2\n",
       "\\item 3\n",
       "\\item 5\n",
       "\\item 2\n",
       "\\item 6\n",
       "\\item 2\n",
       "\\item 1\n",
       "\\item 4\n",
       "\\item 0\n",
       "\\item 2\n",
       "\\item 4\n",
       "\\item 3\n",
       "\\item 2\n",
       "\\item 2\n",
       "\\end{enumerate*}\n"
      ],
      "text/markdown": [
       "1. 2\n",
       "2. 4\n",
       "3. 6\n",
       "4. 3\n",
       "5. 3\n",
       "6. 3\n",
       "7. 3\n",
       "8. 5\n",
       "9. 0\n",
       "10. 2\n",
       "11. 3\n",
       "12. 1\n",
       "13. 4\n",
       "14. 4\n",
       "15. 4\n",
       "16. 7\n",
       "17. 2\n",
       "18. 2\n",
       "19. 2\n",
       "20. 2\n",
       "21. 2\n",
       "22. 6\n",
       "23. 4\n",
       "24. 2\n",
       "25. 1\n",
       "26. 2\n",
       "27. 2\n",
       "28. 1\n",
       "29. 1\n",
       "30. 3\n",
       "31. 1\n",
       "32. 4\n",
       "33. 3\n",
       "34. 3\n",
       "35. 4\n",
       "36. 3\n",
       "37. 4\n",
       "38. 2\n",
       "39. 3\n",
       "40. 1\n",
       "41. 5\n",
       "42. 3\n",
       "43. 4\n",
       "44. 2\n",
       "45. 2\n",
       "46. 3\n",
       "47. 1\n",
       "48. 3\n",
       "49. 2\n",
       "50. 2\n",
       "51. 3\n",
       "52. 2\n",
       "53. 3\n",
       "54. 0\n",
       "55. 3\n",
       "56. 1\n",
       "57. 3\n",
       "58. 3\n",
       "59. 3\n",
       "60. 4\n",
       "61. 3\n",
       "62. 4\n",
       "63. 2\n",
       "64. 4\n",
       "65. 1\n",
       "66. 0\n",
       "67. 3\n",
       "68. 6\n",
       "69. 2\n",
       "70. 3\n",
       "71. 2\n",
       "72. 4\n",
       "73. 3\n",
       "74. 1\n",
       "75. 4\n",
       "76. 3\n",
       "77. 3\n",
       "78. 4\n",
       "79. 4\n",
       "80. 3\n",
       "81. 1\n",
       "82. 4\n",
       "83. 1\n",
       "84. 1\n",
       "85. 4\n",
       "86. 5\n",
       "87. 2\n",
       "88. 3\n",
       "89. 5\n",
       "90. 2\n",
       "91. 6\n",
       "92. 2\n",
       "93. 1\n",
       "94. 4\n",
       "95. 0\n",
       "96. 2\n",
       "97. 4\n",
       "98. 3\n",
       "99. 2\n",
       "100. 2\n",
       "\n",
       "\n"
      ],
      "text/plain": [
       "  [1] 2 4 6 3 3 3 3 5 0 2 3 1 4 4 4 7 2 2 2 2 2 6 4 2 1 2 2 1 1 3 1 4 3 3 4 3 4\n",
       " [38] 2 3 1 5 3 4 2 2 3 1 3 2 2 3 2 3 0 3 1 3 3 3 4 3 4 2 4 1 0 3 6 2 3 2 4 3 1\n",
       " [75] 4 3 3 4 4 3 1 4 1 1 4 5 2 3 5 2 6 2 1 4 0 2 4 3 2 2"
      ]
     },
     "metadata": {},
     "output_type": "display_data"
    }
   ],
   "source": [
    "# Simulate 100 separate occurrences of flipping 10 coins, where each coin has a 30% chance of coming up heads.\n",
    "rbinom(100, 10, .3)"
   ]
  },
  {
   "cell_type": "markdown",
   "id": "6d66e629",
   "metadata": {},
   "source": [
    "### Calculating density of a binomial\n",
    "- using the dbinom(x, size, prob) function wich calculate the density to have x flips heads on a size random \"flips\" with propability prob of coming 1"
   ]
  },
  {
   "cell_type": "code",
   "execution_count": 4,
   "id": "264aeaa3",
   "metadata": {},
   "outputs": [
    {
     "data": {
      "text/html": [
       "0.2334744405"
      ],
      "text/latex": [
       "0.2334744405"
      ],
      "text/markdown": [
       "0.2334744405"
      ],
      "text/plain": [
       "[1] 0.2334744"
      ]
     },
     "metadata": {},
     "output_type": "display_data"
    }
   ],
   "source": [
    "# If you flip 10 coins each with a 30% probability of coming up heads, what is the probability exactly 2 of them are heads?\n",
    "dbinom(2, 10, .3)"
   ]
  },
  {
   "cell_type": "code",
   "execution_count": 6,
   "id": "593ba4c9",
   "metadata": {},
   "outputs": [
    {
     "data": {
      "text/html": [
       "0.2318"
      ],
      "text/latex": [
       "0.2318"
      ],
      "text/markdown": [
       "0.2318"
      ],
      "text/plain": [
       "[1] 0.2318"
      ]
     },
     "metadata": {},
     "output_type": "display_data"
    }
   ],
   "source": [
    "# Simulate by creating a simulation of 10,000 trials\n",
    "mean(rbinom(10000, 10, .3) == 2)"
   ]
  },
  {
   "cell_type": "markdown",
   "id": "4c4cfcc4",
   "metadata": {},
   "source": [
    "### Calculating cumulative density of a binomial\n",
    "- using the pbinom(x, size, prob) function wich calculate probability that the number of heads is less than or equal to x flips heads on a size random \"flips\" with propability prob of coming 1"
   ]
  },
  {
   "cell_type": "code",
   "execution_count": 7,
   "id": "4eaadf65",
   "metadata": {},
   "outputs": [
    {
     "data": {
      "text/html": [
       "0.1502683326"
      ],
      "text/latex": [
       "0.1502683326"
      ],
      "text/markdown": [
       "0.1502683326"
      ],
      "text/plain": [
       "[1] 0.1502683"
      ]
     },
     "metadata": {},
     "output_type": "display_data"
    }
   ],
   "source": [
    "# Calculate the probability that at least five coins are heads with a flip ten coins that each have a 30% probability of heads\n",
    "1 - pbinom(4, 10, .3)"
   ]
  },
  {
   "cell_type": "code",
   "execution_count": 8,
   "id": "68e1e8c9",
   "metadata": {},
   "outputs": [
    {
     "data": {
      "text/html": [
       "0.1459"
      ],
      "text/latex": [
       "0.1459"
      ],
      "text/markdown": [
       "0.1459"
      ],
      "text/plain": [
       "[1] 0.1459"
      ]
     },
     "metadata": {},
     "output_type": "display_data"
    }
   ],
   "source": [
    "# simulate with a 10,000 trials the value of cumulative density\n",
    "mean(rbinom(10000, 10, .3) >=5)"
   ]
  },
  {
   "cell_type": "markdown",
   "id": "cd14f36f",
   "metadata": {},
   "source": [
    "### Varying the number of trials\n",
    "- to accurate the précision of simulations"
   ]
  },
  {
   "cell_type": "code",
   "execution_count": 11,
   "id": "c5d3f5a9",
   "metadata": {},
   "outputs": [
    {
     "data": {
      "text/html": [
       "0.19"
      ],
      "text/latex": [
       "0.19"
      ],
      "text/markdown": [
       "0.19"
      ],
      "text/plain": [
       "[1] 0.19"
      ]
     },
     "metadata": {},
     "output_type": "display_data"
    },
    {
     "data": {
      "text/html": [
       "0.15"
      ],
      "text/latex": [
       "0.15"
      ],
      "text/markdown": [
       "0.15"
      ],
      "text/plain": [
       "[1] 0.15"
      ]
     },
     "metadata": {},
     "output_type": "display_data"
    },
    {
     "data": {
      "text/html": [
       "0.1486"
      ],
      "text/latex": [
       "0.1486"
      ],
      "text/markdown": [
       "0.1486"
      ],
      "text/plain": [
       "[1] 0.1486"
      ]
     },
     "metadata": {},
     "output_type": "display_data"
    },
    {
     "data": {
      "text/html": [
       "0.14941"
      ],
      "text/latex": [
       "0.14941"
      ],
      "text/markdown": [
       "0.14941"
      ],
      "text/plain": [
       "[1] 0.14941"
      ]
     },
     "metadata": {},
     "output_type": "display_data"
    },
    {
     "data": {
      "text/html": [
       "0.150072"
      ],
      "text/latex": [
       "0.150072"
      ],
      "text/markdown": [
       "0.150072"
      ],
      "text/plain": [
       "[1] 0.150072"
      ]
     },
     "metadata": {},
     "output_type": "display_data"
    }
   ],
   "source": [
    "# Simulate flipping ten coins with a 30% probability of heads to find the probability at least five are heads \n",
    "# with 100, 1000, 10000, 100000 and 1000000 trials\n",
    "mean(rbinom(100, 10, .3) >=5)\n",
    "mean(rbinom(1000, 10, .3) >=5)\n",
    "mean(rbinom(10000, 10, .3) >=5)\n",
    "mean(rbinom(100000, 10, .3) >=5)\n",
    "mean(rbinom(1000000, 10, .3) >=5)"
   ]
  },
  {
   "cell_type": "markdown",
   "id": "e87f36a1",
   "metadata": {},
   "source": [
    "### Calculating the expected value\n",
    "- the formula of expected value of a binomila distribution is E(x) = n * p = size * probability <br>\n",
    "where n is the size of the independant events and p the probability"
   ]
  },
  {
   "cell_type": "code",
   "execution_count": 12,
   "id": "b8156337",
   "metadata": {},
   "outputs": [
    {
     "data": {
      "text/html": [
       "7.5"
      ],
      "text/latex": [
       "7.5"
      ],
      "text/markdown": [
       "7.5"
      ],
      "text/plain": [
       "[1] 7.5"
      ]
     },
     "metadata": {},
     "output_type": "display_data"
    }
   ],
   "source": [
    "# What is the expected value of a binomial distribution where 25 coins are flipped, each having a 30% chance of heads?\n",
    "25 * 0.3"
   ]
  },
  {
   "cell_type": "code",
   "execution_count": 13,
   "id": "596824b6",
   "metadata": {},
   "outputs": [
    {
     "data": {
      "text/html": [
       "7.5125"
      ],
      "text/latex": [
       "7.5125"
      ],
      "text/markdown": [
       "7.5125"
      ],
      "text/plain": [
       "[1] 7.5125"
      ]
     },
     "metadata": {},
     "output_type": "display_data"
    }
   ],
   "source": [
    "# Confirm with a 100000 trials simulation\n",
    "mean(rbinom(10000, 25, .3))"
   ]
  },
  {
   "cell_type": "markdown",
   "id": "ac1c9e29",
   "metadata": {},
   "source": [
    "### Calculating the variance\n",
    "- the formula of variance of a binomial distribution is Var = n * p * (1-p) = size * proba (1 - proba)<br>\n",
    "where n is the size of the independant events and p the probability"
   ]
  },
  {
   "cell_type": "code",
   "execution_count": 14,
   "id": "a99e6551",
   "metadata": {},
   "outputs": [
    {
     "data": {
      "text/html": [
       "5.25"
      ],
      "text/latex": [
       "5.25"
      ],
      "text/markdown": [
       "5.25"
      ],
      "text/plain": [
       "[1] 5.25"
      ]
     },
     "metadata": {},
     "output_type": "display_data"
    }
   ],
   "source": [
    "# What is the variance of a binomial distribution where 25 coins are flipped, each having a 30% chance of heads?\n",
    "25 * 0.3 * (1 - 0.3)"
   ]
  },
  {
   "cell_type": "code",
   "execution_count": 15,
   "id": "8197c801",
   "metadata": {},
   "outputs": [
    {
     "data": {
      "text/html": [
       "5.26745150515051"
      ],
      "text/latex": [
       "5.26745150515051"
      ],
      "text/markdown": [
       "5.26745150515051"
      ],
      "text/plain": [
       "[1] 5.267452"
      ]
     },
     "metadata": {},
     "output_type": "display_data"
    }
   ],
   "source": [
    "# Confirm with a 100000 trials simulation\n",
    "var(rbinom(10000, 25, .3))"
   ]
  },
  {
   "cell_type": "markdown",
   "id": "d329d9d3",
   "metadata": {},
   "source": [
    "## Laws of probability"
   ]
  },
  {
   "cell_type": "markdown",
   "id": "488d250f",
   "metadata": {},
   "source": [
    "### Solving for probability of A and B\n",
    "- P(A & B) = P(A) . P(B)"
   ]
  },
  {
   "cell_type": "code",
   "execution_count": 24,
   "id": "6a0701e5",
   "metadata": {},
   "outputs": [
    {
     "data": {
      "text/html": [
       "0.08"
      ],
      "text/latex": [
       "0.08"
      ],
      "text/markdown": [
       "0.08"
      ],
      "text/plain": [
       "[1] 0.08"
      ]
     },
     "metadata": {},
     "output_type": "display_data"
    }
   ],
   "source": [
    "# Events A and B are independent, A has a 40% chance of happening and event B has a 20% chance of happening\n",
    "# What is the probability they will both happen?\n",
    "0.4 * 0.2"
   ]
  },
  {
   "cell_type": "markdown",
   "id": "34fa8aef",
   "metadata": {},
   "source": [
    "### Simulating the probability of A and B"
   ]
  },
  {
   "cell_type": "code",
   "execution_count": 25,
   "id": "a06fd505",
   "metadata": {},
   "outputs": [
    {
     "data": {
      "text/html": [
       "0.079947"
      ],
      "text/latex": [
       "0.079947"
      ],
      "text/markdown": [
       "0.079947"
      ],
      "text/plain": [
       "[1] 0.079947"
      ]
     },
     "metadata": {},
     "output_type": "display_data"
    }
   ],
   "source": [
    "# Simulate 100,000 flips of the independent events A with 40% chance of happening and B with 20% chance of happening\n",
    "A <- rbinom(1000000, 1, 0.4)\n",
    "B <- rbinom(1000000, 1, 0.2)\n",
    "mean(A & B)"
   ]
  },
  {
   "cell_type": "markdown",
   "id": "19d56647",
   "metadata": {},
   "source": [
    "### Simulating the probability of A, B, and C"
   ]
  },
  {
   "cell_type": "code",
   "execution_count": 29,
   "id": "f477f457",
   "metadata": {},
   "outputs": [
    {
     "data": {
      "text/html": [
       "0.056"
      ],
      "text/latex": [
       "0.056"
      ],
      "text/markdown": [
       "0.056"
      ],
      "text/plain": [
       "[1] 0.056"
      ]
     },
     "metadata": {},
     "output_type": "display_data"
    }
   ],
   "source": [
    "# Events A, B and C are independent, with P(A) 40%, P(B) 20% and P(C) 70%.\n",
    "# What fraction of the time do all three coins come up heads?\n",
    "0.4 * 0.2 * 0.7"
   ]
  },
  {
   "cell_type": "code",
   "execution_count": 32,
   "id": "33f238d8",
   "metadata": {},
   "outputs": [
    {
     "data": {
      "text/html": [
       "0.056139"
      ],
      "text/latex": [
       "0.056139"
      ],
      "text/markdown": [
       "0.056139"
      ],
      "text/plain": [
       "[1] 0.056139"
      ]
     },
     "metadata": {},
     "output_type": "display_data"
    }
   ],
   "source": [
    "# Simulate 100,000 flips of the independent events A, B, C and the probability to have A & B & C\n",
    "A <- rbinom(1000000, 1, 0.4)\n",
    "B <- rbinom(1000000, 1, 0.2)\n",
    "C <- rbinom(1000000, 1, 0.7)\n",
    "mean(A & B & C)"
   ]
  },
  {
   "cell_type": "markdown",
   "id": "b838b552",
   "metadata": {},
   "source": [
    "### Solving for probability of A or B\n",
    "- P(X | Y) = P(X) + P(Y) - P(X & Y) = P(X) + P(Y) - P(X) . P(Y) "
   ]
  },
  {
   "cell_type": "code",
   "execution_count": 33,
   "id": "a669baf6",
   "metadata": {},
   "outputs": [
    {
     "data": {
      "text/html": [
       "0.64"
      ],
      "text/latex": [
       "0.64"
      ],
      "text/markdown": [
       "0.64"
      ],
      "text/plain": [
       "[1] 0.64"
      ]
     },
     "metadata": {},
     "output_type": "display_data"
    }
   ],
   "source": [
    "# Events A and B are independent, A has a 60% chance of happening, and event B has a 10% chance of happening\n",
    "# what is the probability either A or B will come up heads?\n",
    "0.6 + 0.1 - (0.6 * 0.1)"
   ]
  },
  {
   "cell_type": "markdown",
   "id": "badad89c",
   "metadata": {},
   "source": [
    "### Simulating probability of A or B"
   ]
  },
  {
   "cell_type": "code",
   "execution_count": 35,
   "id": "43e9303f",
   "metadata": {},
   "outputs": [
    {
     "data": {
      "text/html": [
       "0.639464"
      ],
      "text/latex": [
       "0.639464"
      ],
      "text/markdown": [
       "0.639464"
      ],
      "text/plain": [
       "[1] 0.639464"
      ]
     },
     "metadata": {},
     "output_type": "display_data"
    }
   ],
   "source": [
    "# Simulate 100,000 flips of the independent events A, B and the probability to have A | B\n",
    "A <- rbinom(1000000, 1, 0.6)\n",
    "B <- rbinom(1000000, 1, 0.1)\n",
    "mean (A | B)"
   ]
  },
  {
   "cell_type": "markdown",
   "id": "8340acb2",
   "metadata": {},
   "source": [
    "### Probability either variable is less than or equal to x\n",
    "- Using pbinom(x, n, p)the cumulative function to calculate when the variable is less than or equal to x"
   ]
  },
  {
   "cell_type": "markdown",
   "id": "2b3ef795",
   "metadata": {},
   "source": [
    "- X is a random variable of 10 flips of a coin with 60% chance of heads\n",
    "- Y is a random variable of 10 flips of a coin with a 70% chance of heads\n",
    "- Y et Y  are independent."
   ]
  },
  {
   "cell_type": "markdown",
   "id": "c139b7d8",
   "metadata": {},
   "source": [
    "<a href=\"https://fr.wikipedia.org/wiki/Loi_normale\">Définition loi normale [wikipedia]</a>"
   ]
  },
  {
   "cell_type": "code",
   "execution_count": null,
   "id": "d91ac587",
   "metadata": {},
   "outputs": [],
   "source": []
  }
 ],
 "metadata": {
  "kernelspec": {
   "display_name": "R [conda env:Statistics] *",
   "language": "R",
   "name": "conda-env-Statistics-r"
  },
  "language_info": {
   "codemirror_mode": "r",
   "file_extension": ".r",
   "mimetype": "text/x-r-source",
   "name": "R",
   "pygments_lexer": "r",
   "version": "3.6.1"
  }
 },
 "nbformat": 4,
 "nbformat_minor": 5
}
